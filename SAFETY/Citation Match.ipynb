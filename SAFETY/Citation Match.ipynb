{
 "cells": [
  {
   "cell_type": "code",
   "id": "initial_id",
   "metadata": {
    "collapsed": true,
    "ExecuteTime": {
     "end_time": "2025-02-12T02:06:57.727310Z",
     "start_time": "2025-02-12T02:06:57.721274Z"
    }
   },
   "source": [
    "import pandas as pd\n",
    "import re\n",
    "from collections import Counter\n",
    "from citeproc import CitationStylesStyle, CitationStylesBibliography\n",
    "from citeproc import CitationItem"
   ],
   "outputs": [],
   "execution_count": 58
  },
  {
   "metadata": {
    "ExecuteTime": {
     "end_time": "2025-02-12T02:06:57.785338Z",
     "start_time": "2025-02-12T02:06:57.768029Z"
    }
   },
   "cell_type": "code",
   "source": [
    "FACEBOOK = pd.read_csv(r\"C:\\Users\\patri\\OneDrive - University of Toronto\\SEXTORTION\\UTORONTO-SEXTORTION-RESEARCH\\SAFETY\\CSV\\SAFETY FEATURES - Facebook.csv\")\n",
    "INSTAGRAM = pd.read_csv(r\"C:\\Users\\patri\\OneDrive - University of Toronto\\SEXTORTION\\UTORONTO-SEXTORTION-RESEARCH\\SAFETY\\CSV\\SAFETY FEATURES - Instagram.csv\")\n",
    "TIKTOK = pd.read_csv(r\"C:\\Users\\patri\\OneDrive - University of Toronto\\SEXTORTION\\UTORONTO-SEXTORTION-RESEARCH\\SAFETY\\CSV\\SAFETY FEATURES - TikTok.csv\")\n",
    "TWITTER = pd.read_csv(r\"C:\\Users\\patri\\OneDrive - University of Toronto\\SEXTORTION\\UTORONTO-SEXTORTION-RESEARCH\\SAFETY\\CSV\\SAFETY FEATURES - Twitter.csv\")"
   ],
   "id": "b71d221019382319",
   "outputs": [],
   "execution_count": 59
  },
  {
   "metadata": {
    "ExecuteTime": {
     "end_time": "2025-02-12T02:06:57.920162Z",
     "start_time": "2025-02-12T02:06:57.853673Z"
    }
   },
   "cell_type": "code",
   "source": [
    "EXTRACTED_NUMBERS_COLUMN = \"Extracted Numbers\"\n",
    "\n",
    "\n",
    "def extract_numbers_with_period_from_text(text):\n",
    "    \"\"\"Extract numbers followed immediately by a period from a given text string.\"\"\"\n",
    "    return [int(num) for num in re.findall(r'\\b(\\d+)\\.', str(text))]\n",
    "\n",
    "\n",
    "def extract_numbers_from_row(row, target_columns):\n",
    "    \"\"\"\n",
    "    Extract numbers with periods immediately after them from multiple columns in a row.\n",
    "    :param row: A single row from the DataFrame.\n",
    "    :param target_columns: List of column names in the row to process.\n",
    "    :return: A concatenated list of extracted numbers from all specified columns.\n",
    "    \"\"\"\n",
    "    numbers = []\n",
    "    for col in target_columns:\n",
    "        numbers.extend(extract_numbers_with_period_from_text(row[col]))\n",
    "    return numbers\n",
    "\n",
    "\n",
    "def extract_numbers_from_columns(df, target_columns):\n",
    "    \"\"\"\n",
    "    Extract numbers with periods immediately after them from the specified columns of a DataFrame\n",
    "    and add them as a new column.\n",
    "    :param df: The DataFrame to process.\n",
    "    :param target_columns: List of columns from which to extract numbers.\n",
    "    :return: Updated DataFrame with a new column for the extracted numbers.\n",
    "    \"\"\"\n",
    "    df[EXTRACTED_NUMBERS_COLUMN] = df.apply(\n",
    "        lambda row: extract_numbers_from_row(row, target_columns), axis=1\n",
    "    )\n",
    "    return df\n",
    "\n",
    "\n",
    "def process_all_dataframes(dataframes, target_columns):\n",
    "    \"\"\"\n",
    "    Process multiple DataFrames to extract numbers (with trailing periods) from the specified columns.\n",
    "    :param dataframes: List of DataFrames to process.\n",
    "    :param target_columns: Column names from which to extract numbers in each DataFrame.\n",
    "    :return: List of processed DataFrames with an added extracted numbers column.\n",
    "    \"\"\"\n",
    "    return [extract_numbers_from_columns(df, target_columns) for df in dataframes]\n",
    "\n",
    "\n",
    "# Process the DataFrames\n",
    "dataframes = [FACEBOOK, INSTAGRAM, TIKTOK, TWITTER]\n",
    "columns_to_check = ['Safety Feature', 'Description', 'Purpose', 'Motivation']\n",
    "processed_dataframes = process_all_dataframes(dataframes, columns_to_check)\n"
   ],
   "id": "1b6e2c0a9ced59b8",
   "outputs": [],
   "execution_count": 60
  },
  {
   "metadata": {
    "ExecuteTime": {
     "end_time": "2025-02-12T02:06:57.942589Z",
     "start_time": "2025-02-12T02:06:57.928144Z"
    }
   },
   "cell_type": "code",
   "source": [
    "def replace_numbers_with_citations(df, extracted_numbers_column=\"Extracted Numbers\", target_columns=None):\n",
    "    \"\"\"\n",
    "    Replace numbers in text columns with corresponding citations.\n",
    "\n",
    "    :param df: DataFrame containing the data to process.\n",
    "    :param extracted_numbers_column: Column containing numbers extracted, if necessary.\n",
    "    :param target_columns: List of DataFrame column names where numbers should be replaced.\n",
    "    :return: Updated DataFrame with citations replacing numbers.\n",
    "    \"\"\"\n",
    "    # Citation legend for replacement\n",
    "    citation_mapping = {\n",
    "        1: \"U.S. Department of Veterans Affairs. 2025. “Social Media, the Safe Way.” DigitalVA (blog). 2025. https://digital.va.gov/cyber-spot/social-media-the-safe-way/.\",\n",
    "        2: \"Berkovich, Sari. 2023. “The History of Trust and Safety | Evolution of Online Protection.” ActiveFence. September 14, 2023. https://www.activefence.com/blog/the-history-of-trust-and-safety/.\",\n",
    "        3: \"“Facebook Safety Check.” 2024. In Wikipedia. https://en.wikipedia.org/w/index.php?title=Facebook_Safety_Check&oldid=1257904682.\",\n",
    "        4: \"Gleit, Naomi, Sharon Zeng, and Peter Cottle. 2014. “Introducing Safety Check.” Meta (blog). October 16, 2014. https://about.fb.com/news/2014/10/introducing-safety-check/.\",\n",
    "        5: \"Dowdy, Tracey. 2016. “Facebook Updates Safety Check Feature.” The Online Mom (blog). December 29, 2016. https://www.theonlinemom.com/facebook-updates-safety-check-feature/.\",\n",
    "        6: \"NNEDV and Facebook. 2017. “A Guide to Staying Safe on Facebook.” Meta. https://about.fb.com/wp-content/uploads/2017/12/a-guide-to-staying-safe-on-facebook.pdf.\"\n",
    "    }\n",
    "\n",
    "    def replace_in_text(text):\n",
    "        \"\"\"\n",
    "        Replace numbered references in a string with citations.\n",
    "        \"\"\"\n",
    "        if not isinstance(text, str):\n",
    "            return text\n",
    "\n",
    "        # Extract numbers and replace with corresponding citations\n",
    "        numbers = extract_numbers_with_period_from_text(text)\n",
    "        for number in numbers:\n",
    "            citation = citation_mapping.get(int(number.strip('.')))  # Map number to citation\n",
    "            if citation:\n",
    "                # Use regex to replace occurrences of the number followed by a period\n",
    "                text = re.sub(rf'\\b{number}\\.', citation, text)\n",
    "        return text\n",
    "\n",
    "    if target_columns is None:\n",
    "        target_columns = []\n",
    "\n",
    "    # Apply replacements to the specified columns\n",
    "    for col in target_columns:\n",
    "        df[col] = df[col].apply(replace_in_text)\n",
    "    return df"
   ],
   "id": "9a09ee1fecd6a778",
   "outputs": [],
   "execution_count": 61
  },
  {
   "metadata": {
    "ExecuteTime": {
     "end_time": "2025-02-12T02:07:22.771185Z",
     "start_time": "2025-02-12T02:07:22.762082Z"
    }
   },
   "cell_type": "code",
   "source": [
    "def replace_numbers_with_citations(df, extracted_numbers_column=\"Extracted Numbers\", target_columns=None):\n",
    "    \"\"\"\n",
    "    Replace numbers in text columns with corresponding citations.\n",
    "\n",
    "    :param df: DataFrame containing the data to process.\n",
    "    :param extracted_numbers_column: Column containing numbers extracted, if necessary.\n",
    "    :param target_columns: List of DataFrame column names where numbers should be replaced.\n",
    "    :return: Updated DataFrame with citations replacing numbers.\n",
    "    \"\"\"\n",
    "    # Citation legend for replacement\n",
    "    citation_mapping = {\n",
    "        1: \"U.S. Department of Veterans Affairs. 2025. “Social Media, the Safe Way.” DigitalVA (blog). 2025. https://digital.va.gov/cyber-spot/social-media-the-safe-way/.\",\n",
    "        2: \"Berkovich, Sari. 2023. “The History of Trust and Safety | Evolution of Online Protection.” ActiveFence. September 14, 2023. https://www.activefence.com/blog/the-history-of-trust-and-safety/.\",\n",
    "        3: \"“Facebook Safety Check.” 2024. In Wikipedia. https://en.wikipedia.org/w/index.php?title=Facebook_Safety_Check&oldid=1257904682.\",\n",
    "        4: \"Gleit, Naomi, Sharon Zeng, and Peter Cottle. 2014. “Introducing Safety Check.” Meta (blog). October 16, 2014. https://about.fb.com/news/2014/10/introducing-safety-check/.\",\n",
    "        5: \"Dowdy, Tracey. 2016. “Facebook Updates Safety Check Feature.” The Online Mom (blog). December 29, 2016. https://www.theonlinemom.com/facebook-updates-safety-check-feature/.\",\n",
    "        6: \"NNEDV and Facebook. 2017. “A Guide to Staying Safe on Facebook.” Meta. https://about.fb.com/wp-content/uploads/2017/12/a-guide-to-staying-safe-on-facebook.pdf.\"\n",
    "    }\n",
    "\n",
    "    def replace_in_text(text):\n",
    "        \"\"\"\n",
    "        Replace numbered references in a string with citations.\n",
    "        \"\"\"\n",
    "        if not isinstance(text, str):\n",
    "            return text\n",
    "\n",
    "        # Extract numbers and replace with corresponding citations\n",
    "        numbers = extract_numbers_with_period_from_text(text)\n",
    "        for number in numbers:\n",
    "            citation = citation_mapping.get(int(number.strip('.')))  # Map number to citation\n",
    "            if citation:\n",
    "                # Use regex to replace occurrences of the number followed by a period\n",
    "                text = re.sub(rf'\\b{number}\\.', citation, text)\n",
    "        return text\n",
    "\n",
    "    if target_columns is None:\n",
    "        target_columns = []\n",
    "\n",
    "    # Apply replacements to the specified columns\n",
    "    for col in target_columns:\n",
    "        df[col] = df[col].apply(replace_in_text)\n",
    "    return df"
   ],
   "id": "55219269ee12fbc3",
   "outputs": [],
   "execution_count": 62
  }
 ],
 "metadata": {
  "kernelspec": {
   "display_name": "Python 3",
   "language": "python",
   "name": "python3"
  },
  "language_info": {
   "codemirror_mode": {
    "name": "ipython",
    "version": 2
   },
   "file_extension": ".py",
   "mimetype": "text/x-python",
   "name": "python",
   "nbconvert_exporter": "python",
   "pygments_lexer": "ipython2",
   "version": "2.7.6"
  }
 },
 "nbformat": 4,
 "nbformat_minor": 5
}
